{
 "cells": [
  {
   "cell_type": "code",
   "execution_count": 1,
   "metadata": {
    "scrolled": true
   },
   "outputs": [],
   "source": [
    "import math\n",
    "\n",
    "import pandas as pd\n",
    "import difflib as dl\n",
    "import Levenshtein as lev\n",
    "import numpy as np\n",
    "import matplotlib.pyplot as plt\n",
    "\n",
    "from sklearn import linear_model, metrics\n",
    "from sklearn.model_selection import train_test_split\n",
    "from sklearn.preprocessing import StandardScaler\n",
    "from sklearn.metrics import accuracy_score, roc_auc_score, roc_curve, classification_report\n",
    "# from statsmodels.stats.outliers_influence import variance_inflation_factor\n",
    "# from sklearn.decomposition import PCA\n"
   ]
  },
  {
   "cell_type": "markdown",
   "metadata": {},
   "source": [
    "## First step inspect the data. \n",
    "* Looking for the shape of the frame\n",
    "* column names\n",
    "* df.head to get a sense of the 'look' of the fields\n",
    "* ham/spam breakdown of labels \n",
    "* .info to check for completeness of records"
   ]
  },
  {
   "cell_type": "code",
   "execution_count": 2,
   "metadata": {
    "scrolled": true
   },
   "outputs": [
    {
     "name": "stdout",
     "output_type": "stream",
     "text": [
      "shape: (3938, 24)\n",
      "colnames: Index(['city', 'country', 'airbnb_property_id', 'ha_property_id', 'match',\n",
      "       'airbnb_accommodates', 'airbnb_bedrooms', 'airbnb_bathrooms',\n",
      "       'airbnb_title', 'airbnb_description', 'airbnb_lat', 'airbnb_longitude',\n",
      "       'ha_accommodates', 'ha_bedrooms', 'ha_bathrooms', 'ha_title',\n",
      "       'ha_description', 'ha_lat', 'ha_longitude', 'img_airbnb', 'img_ha',\n",
      "       'Unnamed: 21', 'Unnamed: 22', 'Unnamed: 23'],\n",
      "      dtype='object')\n",
      "head:            city        country  airbnb_property_id ha_property_id  match  \\\n",
      "0  Santa Monica  United States            14772971       486639vb      0   \n",
      "1       Orlando  United States            16750222        3926306      1   \n",
      "2     Nashville  United States            22742510      1314254vb      1   \n",
      "3     Nashville  United States            18703515      1073188vb      1   \n",
      "4   New Orleans  United States             9715233       876045vb      0   \n",
      "\n",
      "   airbnb_accommodates  airbnb_bedrooms  airbnb_bathrooms  \\\n",
      "0                    4                2               1.0   \n",
      "1                    8                3               3.0   \n",
      "2                   12                3               2.5   \n",
      "3                    4                2               3.0   \n",
      "4                    6                3               2.5   \n",
      "\n",
      "                                        airbnb_title  \\\n",
      "0                        Santa Monica great location   \n",
      "1  July/August Special $155/nt For This Ground Fl...   \n",
      "2  BRIGHT+ MODERN ☆ Sleep 12 ☆ BBQ ☆ Mins to Broa...   \n",
      "3                Nashville's Premier Downtown Estate   \n",
      "4                              Beauty in the Bywater   \n",
      "\n",
      "                                  airbnb_description     ...     ha_bathrooms  \\\n",
      "0  Santa Monica prime location for your perfect v...     ...              1.0   \n",
      "1  Unique 3 bed with 3 full bath first floor cond...     ...              3.0   \n",
      "2  Brand new - Close to downtown - Great for grou...     ...              2.5   \n",
      "3  One of a kind luxury penthouse in coveted down...     ...              3.0   \n",
      "4  This boho chic beauty is just a 30 min walk to...     ...              2.5   \n",
      "\n",
      "                                            ha_title  \\\n",
      "0  Modern 2 Bdrm Cottage with shared pool!  Just ...   \n",
      "1  July/August Special $155/nt For This Ground Fl...   \n",
      "2  BRIGHT + MODERN | Sleeps 12 | Parking | Mins t...   \n",
      "3  BRAND NEW - Nashville's Premier Downtown Estat...   \n",
      "4  1903 Queen Anne Beauty-former ship's Captain's...   \n",
      "\n",
      "                                      ha_description       ha_lat  \\\n",
      "0  This newly remodeled front cottage was relocat...  34.02823232   \n",
      "1  \\n\\t\\t\\t\\tUnique 3 bed with 3 full bath first ...  28.43151256   \n",
      "2  We have fallen in love with Nashville and love...  36.18118449   \n",
      "3  ONE OF A KIND - Presidential penthouse on the ...   36.1625431   \n",
      "4  Come experience neighborhood living in quirky ...    29.965106   \n",
      "\n",
      "    ha_longitude                                         img_airbnb  \\\n",
      "0  -118.49404128  {https://a0.muscache.com/im/pictures/ad252180-...   \n",
      "1   -81.44715684  {https://a0.muscache.com/im/pictures/0ae5685d-...   \n",
      "2   -86.80492697  {https://a0.muscache.com/im/pictures/be036a23-...   \n",
      "3    -86.7750413  {https://a0.muscache.com/im/pictures/c60aa1c7-...   \n",
      "4     -90.036352  {https://a0.muscache.com/im/pictures/4f8dde94-...   \n",
      "\n",
      "                                              img_ha Unnamed: 21 Unnamed: 22  \\\n",
      "0  {https://odis.homeaway.com/odis/listing/dd6d17...         NaN         NaN   \n",
      "1  {https://odis.homeaway.com/odis/listing/4f1efa...         NaN         NaN   \n",
      "2  {https://odis.homeaway.com/odis/listing/e6b9e2...         NaN         NaN   \n",
      "3  {https://odis.homeaway.com/odis/listing/0c7b91...         NaN         NaN   \n",
      "4  {https://odis.homeaway.com/odis/listing/a568dc...         NaN         NaN   \n",
      "\n",
      "  Unnamed: 23  \n",
      "0         NaN  \n",
      "1         NaN  \n",
      "2         NaN  \n",
      "3         NaN  \n",
      "4         NaN  \n",
      "\n",
      "[5 rows x 24 columns]\n",
      "percent pos labels: 0.5066023362112747\n",
      "<class 'pandas.core.frame.DataFrame'>\n",
      "RangeIndex: 3938 entries, 0 to 3937\n",
      "Data columns (total 24 columns):\n",
      "city                   3938 non-null object\n",
      "country                3938 non-null object\n",
      "airbnb_property_id     3938 non-null int64\n",
      "ha_property_id         3938 non-null object\n",
      "match                  3938 non-null int64\n",
      "airbnb_accommodates    3938 non-null int64\n",
      "airbnb_bedrooms        3938 non-null int64\n",
      "airbnb_bathrooms       3938 non-null float64\n",
      "airbnb_title           3938 non-null object\n",
      "airbnb_description     3795 non-null object\n",
      "airbnb_lat             3937 non-null object\n",
      "airbnb_longitude       3938 non-null object\n",
      "ha_accommodates        3938 non-null float64\n",
      "ha_bedrooms            3938 non-null float64\n",
      "ha_bathrooms           3938 non-null float64\n",
      "ha_title               3938 non-null object\n",
      "ha_description         3938 non-null object\n",
      "ha_lat                 3938 non-null object\n",
      "ha_longitude           3938 non-null object\n",
      "img_airbnb             3699 non-null object\n",
      "img_ha                 3929 non-null object\n",
      "Unnamed: 21            42 non-null object\n",
      "Unnamed: 22            4 non-null object\n",
      "Unnamed: 23            1 non-null object\n",
      "dtypes: float64(4), int64(4), object(16)\n",
      "memory usage: 738.5+ KB\n"
     ]
    }
   ],
   "source": [
    "df_raw = pd.read_csv('train.csv')\n",
    "df = df_raw\n",
    "\n",
    "#\n",
    "# INSPECT\n",
    "#\n",
    "print(\"shape: \"+str(df.shape))\n",
    "print(\"colnames: \"+str(df.columns))\n",
    "print(\"head: \"+str(df.head()))\n",
    "print(\"percent pos labels: \"+str(df.match.sum()/len(df.match)))\n",
    "\n",
    "df.info()"
   ]
  },
  {
   "cell_type": "markdown",
   "metadata": {},
   "source": [
    "## Next step: clean it up\n",
    "* 50% pos labels, so ~1400 obs per label\n",
    "* not all fields are present for all observations. \n",
    "    3795 - airbnb_descript\n",
    "    3937 - airbnb lat\n",
    "    img_* fields are also not fully populated. \n",
    "* 'Unnamed' are funky. Probably comma sep errors \n",
    "* Will inspect more closely, at this number of observations, dropping the rows with NAs or comma sep issues is a good option since they're not skewed pos or neg"
   ]
  },
  {
   "cell_type": "code",
   "execution_count": 3,
   "metadata": {},
   "outputs": [
    {
     "name": "stdout",
     "output_type": "stream",
     "text": [
      "percent pos labels init: 0.5066023362112747\n",
      "percent pos labels post clean: 0.5295842217484008\n"
     ]
    }
   ],
   "source": [
    "# Filter out rows with nulls\n",
    "df_clean = (df[(~df.airbnb_description.isnull()) & (~df.airbnb_lat.isnull())])\n",
    "\n",
    "# Filter out \n",
    "bad_separator = df_clean.loc[(~df_clean['Unnamed: 21'].isna()) | (~df_clean['Unnamed: 22'].isna()) | (~df_clean['Unnamed: 23'].isna())]\n",
    "df_clean = df_clean.loc[(df_clean['Unnamed: 21'].isna()) & (df_clean['Unnamed: 22'].isna()) & (df_clean['Unnamed: 23'].isna())]\n",
    "df_clean = df_clean[df_clean.columns.drop(list(df_clean.filter(regex='Unnamed')))]\n",
    "\n",
    "print(\"percent pos labels init: \"+str(df.match.sum()/len(df.match)))\n",
    "print(\"percent pos labels post clean: \"+str(df_clean.match.sum()/len(df_clean.match)))\n",
    "\n"
   ]
  },
  {
   "cell_type": "markdown",
   "metadata": {},
   "source": [
    "## More cleaning. \n",
    "* remove \\n \\t from text fields, just so they open nicer in excel if need be\n",
    "* convert lat/lon to numeric"
   ]
  },
  {
   "cell_type": "code",
   "execution_count": 4,
   "metadata": {
    "scrolled": true
   },
   "outputs": [],
   "source": [
    "# CLEAN\n",
    "\n",
    "# Text cols\n",
    "annoying_text_columns = ['airbnb_title', 'airbnb_description', 'ha_title', 'ha_description']\n",
    "\n",
    "for col in annoying_text_columns:\n",
    "    df_clean[col] = df_clean[col].apply(lambda x: str(x).replace('\\n', ''))\n",
    "    df_clean[col] = df_clean[col].apply(lambda x: str(x).replace('\\t', ''))\n",
    "\n",
    "### Lat/lon as num\n",
    "lat_lon = ['airbnb_lat', 'airbnb_longitude', 'ha_lat', 'ha_longitude']\n",
    "for x in lat_lon:\n",
    "    df_clean.loc[:,x] = pd.to_numeric(df_clean[x])\n",
    "    \n"
   ]
  },
  {
   "cell_type": "markdown",
   "metadata": {},
   "source": [
    "## Features\n",
    "#### Intuition suggests some features\n",
    "* difference between abnb/ha attributes more important than actual value\n",
    "* Euclidian distance between ha/abnb locations more useful than independent lat/lon differences (not to mention collinearity of lat/lon distance)\n",
    "* Apply some general 'text distance' measures to capture similarity of abnb/ha descriptions and titles"
   ]
  },
  {
   "cell_type": "code",
   "execution_count": 5,
   "metadata": {},
   "outputs": [],
   "source": [
    "# FEATURE MUNGING\n",
    "\n",
    "### going to look at differences between listing attributes for each abnb/ha row\n",
    "df_clean['X_accommodates'] = df_clean.airbnb_accommodates - df_clean.ha_accommodates\n",
    "df_clean['X_bedrooms'] = df_clean.airbnb_bedrooms - df_clean.ha_bedrooms\n",
    "df_clean['X_bathrooms'] = df_clean.airbnb_bathrooms - df_clean.ha_bathrooms\n",
    "df_clean['lat_diff'] = abs(df_clean.airbnb_lat - df_clean.ha_lat)\n",
    "df_clean['lon_diff'] = abs(df_clean.airbnb_longitude - df_clean.ha_longitude)\n",
    "df_clean['X_euc_diff'] = df_clean.apply(lambda x: math.sqrt(x.lat_diff**2 + x.lon_diff**2), axis=1)\n",
    "\n",
    "### grab some basic text-edit difference between titles/descriptions\n",
    "df_clean['X_title_seqDiff'] = df_clean.apply(lambda x: dl.SequenceMatcher(None,x.airbnb_title, x.ha_title).ratio(), axis=1)\n",
    "df_clean['X_description_seqDiff'] = df_clean.apply(lambda x: dl.SequenceMatcher(None,x.airbnb_description, x.ha_description).ratio(), axis=1)\n",
    "\n"
   ]
  },
  {
   "cell_type": "code",
   "execution_count": 6,
   "metadata": {
    "scrolled": true
   },
   "outputs": [
    {
     "name": "stdout",
     "output_type": "stream",
     "text": [
      "<class 'pandas.core.frame.DataFrame'>\n",
      "Int64Index: 3752 entries, 0 to 3937\n",
      "Data columns (total 29 columns):\n",
      "city                     3752 non-null object\n",
      "country                  3752 non-null object\n",
      "airbnb_property_id       3752 non-null int64\n",
      "ha_property_id           3752 non-null object\n",
      "match                    3752 non-null int64\n",
      "airbnb_accommodates      3752 non-null int64\n",
      "airbnb_bedrooms          3752 non-null int64\n",
      "airbnb_bathrooms         3752 non-null float64\n",
      "airbnb_title             3752 non-null object\n",
      "airbnb_description       3752 non-null object\n",
      "airbnb_lat               3752 non-null float64\n",
      "airbnb_longitude         3752 non-null float64\n",
      "ha_accommodates          3752 non-null float64\n",
      "ha_bedrooms              3752 non-null float64\n",
      "ha_bathrooms             3752 non-null float64\n",
      "ha_title                 3752 non-null object\n",
      "ha_description           3752 non-null object\n",
      "ha_lat                   3752 non-null float64\n",
      "ha_longitude             3752 non-null float64\n",
      "img_airbnb               3631 non-null object\n",
      "img_ha                   3752 non-null object\n",
      "X_accommodates           3752 non-null float64\n",
      "X_bedrooms               3752 non-null float64\n",
      "X_bathrooms              3752 non-null float64\n",
      "lat_diff                 3752 non-null float64\n",
      "lon_diff                 3752 non-null float64\n",
      "X_euc_diff               3752 non-null float64\n",
      "X_title_seqDiff          3752 non-null float64\n",
      "X_description_seqDiff    3752 non-null float64\n",
      "dtypes: float64(16), int64(4), object(9)\n",
      "memory usage: 879.4+ KB\n"
     ]
    }
   ],
   "source": [
    "# Check em\n",
    "df_clean.shape\n",
    "df_clean.info()"
   ]
  },
  {
   "cell_type": "markdown",
   "metadata": {},
   "source": [
    "## Start doing the MACHINE LEARNING\n",
    "* Gonna split into test/train frames -- will skip cross validation because I don't plan on tweaking any hyper parameters \n",
    "* Standardize features"
   ]
  },
  {
   "cell_type": "code",
   "execution_count": 7,
   "metadata": {
    "scrolled": true
   },
   "outputs": [
    {
     "name": "stdout",
     "output_type": "stream",
     "text": [
      "(3001, 6) (3001,)\n",
      "(751, 6) (751,)\n",
      "feature avg std: 1.008729\n",
      "feature avg mean: -0.002749\n"
     ]
    }
   ],
   "source": [
    "# Split the df_clean in to test train\n",
    "\n",
    "y = df_clean['match']\n",
    "X = df_clean[list(df_clean.filter(regex='^X_'))]\n",
    "columns = df_clean.filter(regex='^X_')\n",
    "\n",
    "scaler = StandardScaler()\n",
    "X = scaler.fit_transform(X)\n",
    "\n",
    "X_train, X_test, y_train, y_test = train_test_split(X, y, test_size=0.2, random_state = 12)\n",
    "\n",
    "print (X_train.shape, y_train.shape)\n",
    "print (X_test.shape, y_test.shape)\n",
    "\n",
    "print (\"feature avg std: %f\"%X_train.std().mean())\n",
    "print (\"feature avg mean: %f\"%X_train.mean().mean())\n"
   ]
  },
  {
   "cell_type": "markdown",
   "metadata": {},
   "source": [
    "## baseline for comps"
   ]
  },
  {
   "cell_type": "code",
   "execution_count": 8,
   "metadata": {},
   "outputs": [
    {
     "name": "stdout",
     "output_type": "stream",
     "text": [
      "baseline accuracy: 0.54\n"
     ]
    }
   ],
   "source": [
    "predict_all_match = np.ones(shape=y_test.shape)\n",
    "base_accuracy = accuracy_score(y_test, predict_all_match)\n",
    "base_roc_auc = roc_auc_score(y_test, predict_all_match)\n",
    "\n",
    "print(\"baseline accuracy: %2.2f\"%base_accuracy)"
   ]
  },
  {
   "cell_type": "markdown",
   "metadata": {},
   "source": [
    "## Can we beat a coin flip with logistic regression???\n",
    "* Fine with default penalty and C values since low count of features -- not too worried about overfitting"
   ]
  },
  {
   "cell_type": "code",
   "execution_count": 9,
   "metadata": {},
   "outputs": [
    {
     "name": "stdout",
     "output_type": "stream",
     "text": [
      "Logireggy accuracy: 0.99\n"
     ]
    }
   ],
   "source": [
    "# fit a model\n",
    "lm = linear_model.LogisticRegression()\n",
    "model = lm.fit(X_train, y_train)\n",
    "predictions = lm.predict(X_test)\n",
    "\n",
    "\n",
    "model_accuracy = accuracy_score(y_test, predictions)\n",
    "model_roc_auc = roc_auc_score(y_test, predictions)\n",
    "fpr, tpr, thresholds = roc_curve(y_test, model.predict_proba(X_test)[:,1])\n",
    "\n",
    "\n",
    "print(\"Logireggy accuracy: %2.2f\"%accuracy_score(y_test, predictions))\n",
    "## This prediction is based on one v all classification and not a threshold, per se"
   ]
  },
  {
   "cell_type": "markdown",
   "metadata": {},
   "source": [
    "## Closer inspection"
   ]
  },
  {
   "cell_type": "code",
   "execution_count": 10,
   "metadata": {},
   "outputs": [
    {
     "name": "stdout",
     "output_type": "stream",
     "text": [
      "--BASELINE--\n",
      "baseline accuracy: 0.54\n",
      "base auc = 0.50\n",
      "             precision    recall  f1-score   support\n",
      "\n",
      "          0       0.00      0.00      0.00       343\n",
      "          1       0.54      1.00      0.70       408\n",
      "\n",
      "avg / total       0.30      0.54      0.38       751\n",
      "\n",
      "\n",
      "--LoggyReggie--\n",
      "model accuracy: 0.99\n",
      "model auc = 0.99\n",
      "             precision    recall  f1-score   support\n",
      "\n",
      "          0       0.99      0.99      0.99       343\n",
      "          1       1.00      0.99      0.99       408\n",
      "\n",
      "avg / total       0.99      0.99      0.99       751\n",
      "\n"
     ]
    },
    {
     "name": "stderr",
     "output_type": "stream",
     "text": [
      "/Library/Frameworks/Python.framework/Versions/3.6/lib/python3.6/site-packages/sklearn/metrics/classification.py:1135: UndefinedMetricWarning: Precision and F-score are ill-defined and being set to 0.0 in labels with no predicted samples.\n",
      "  'precision', 'predicted', average, warn_for)\n"
     ]
    }
   ],
   "source": [
    "print(\"--BASELINE--\")\n",
    "print(\"baseline accuracy: %2.2f\"%base_accuracy)\n",
    "print(\"base auc = %2.2f\"%base_roc_auc)\n",
    "print(classification_report(y_test, predict_all_match))\n",
    "\n",
    "print(\"\\n--LoggyReggie--\")\n",
    "print(\"model accuracy: %2.2f\"%model_accuracy)\n",
    "print(\"model auc = %2.2f\"%model_roc_auc)\n",
    "print(classification_report(y_test, predictions))"
   ]
  },
  {
   "cell_type": "code",
   "execution_count": 11,
   "metadata": {
    "scrolled": false
   },
   "outputs": [
    {
     "data": {
      "text/plain": [
       "<matplotlib.legend.Legend at 0x117808c18>"
      ]
     },
     "execution_count": 11,
     "metadata": {},
     "output_type": "execute_result"
    },
    {
     "data": {
      "image/png": "[encoded data removed]",
      "text/plain": [
       "<Figure size 432x288 with 1 Axes>"
      ]
     },
     "metadata": {},
     "output_type": "display_data"
    }
   ],
   "source": [
    "plt.figure()\n",
    "plt.plot(fpr, tpr, label = 'ROC curve area: %0.2f'% model_roc_auc)\n",
    "plt.plot([0,1],[0,1], 'k--')\n",
    "plt.xlabel('FalsePosiRate')\n",
    "plt.ylabel('TruePosiRate')\n",
    "plt.title('match model ROC')\n",
    "plt.legend(loc='lower right')\n",
    "\n"
   ]
  },
  {
   "cell_type": "markdown",
   "metadata": {},
   "source": [
    "## Check + Set Threshold\n",
    "* We can use a for loop to check performance at various thresholds. \n",
    "* Optimal recall/precision/auc found at threshold = .46"
   ]
  },
  {
   "cell_type": "code",
   "execution_count": 12,
   "metadata": {},
   "outputs": [
    {
     "name": "stdout",
     "output_type": "stream",
     "text": [
      "\n",
      "--threshold @ 1.00--\n",
      "model accuracy: 0.46\n",
      "model auc = 0.50\n",
      "             precision    recall  f1-score   support\n",
      "\n",
      "          0       0.46      1.00      0.63       343\n",
      "          1       0.00      0.00      0.00       408\n",
      "\n",
      "avg / total       0.21      0.46      0.29       751\n",
      "\n",
      "\n",
      "--threshold @ 0.73--\n",
      "model accuracy: 0.99\n",
      "model auc = 0.99\n",
      "             precision    recall  f1-score   support\n",
      "\n",
      "          0       0.97      1.00      0.98       343\n",
      "          1       1.00      0.97      0.99       408\n",
      "\n",
      "avg / total       0.99      0.99      0.99       751\n",
      "\n",
      "\n",
      "--threshold @ 0.70--\n",
      "model accuracy: 0.99\n",
      "model auc = 0.99\n",
      "             precision    recall  f1-score   support\n",
      "\n",
      "          0       0.97      1.00      0.99       343\n",
      "          1       1.00      0.98      0.99       408\n",
      "\n",
      "avg / total       0.99      0.99      0.99       751\n",
      "\n",
      "\n",
      "--threshold @ 0.57--\n",
      "model accuracy: 0.99\n",
      "model auc = 0.99\n",
      "             precision    recall  f1-score   support\n",
      "\n",
      "          0       0.98      1.00      0.99       343\n",
      "          1       1.00      0.98      0.99       408\n",
      "\n",
      "avg / total       0.99      0.99      0.99       751\n",
      "\n",
      "\n",
      "--threshold @ 0.56--\n",
      "model accuracy: 0.99\n",
      "model auc = 0.99\n",
      "             precision    recall  f1-score   support\n",
      "\n",
      "          0       0.98      1.00      0.99       343\n",
      "          1       1.00      0.99      0.99       408\n",
      "\n",
      "avg / total       0.99      0.99      0.99       751\n",
      "\n",
      "\n",
      "--threshold @ 0.51--\n",
      "model accuracy: 0.99\n",
      "model auc = 0.99\n",
      "             precision    recall  f1-score   support\n",
      "\n",
      "          0       0.99      0.99      0.99       343\n",
      "          1       1.00      0.99      0.99       408\n",
      "\n",
      "avg / total       0.99      0.99      0.99       751\n",
      "\n",
      "\n",
      "--threshold @ 0.05--\n",
      "model accuracy: 0.94\n",
      "model auc = 0.94\n",
      "             precision    recall  f1-score   support\n",
      "\n",
      "          0       0.99      0.88      0.93       343\n",
      "          1       0.91      0.99      0.95       408\n",
      "\n",
      "avg / total       0.95      0.94      0.94       751\n",
      "\n",
      "\n",
      "--threshold @ 0.04--\n",
      "model accuracy: 0.94\n",
      "model auc = 0.94\n",
      "             precision    recall  f1-score   support\n",
      "\n",
      "          0       0.99      0.88      0.93       343\n",
      "          1       0.91      0.99      0.95       408\n",
      "\n",
      "avg / total       0.95      0.94      0.94       751\n",
      "\n",
      "\n",
      "--threshold @ 0.02--\n",
      "model accuracy: 0.89\n",
      "model auc = 0.89\n",
      "             precision    recall  f1-score   support\n",
      "\n",
      "          0       0.99      0.78      0.87       343\n",
      "          1       0.84      1.00      0.91       408\n",
      "\n",
      "avg / total       0.91      0.89      0.89       751\n",
      "\n",
      "\n",
      "--threshold @ 0.02--\n",
      "model accuracy: 0.89\n",
      "model auc = 0.88\n",
      "             precision    recall  f1-score   support\n",
      "\n",
      "          0       0.99      0.77      0.87       343\n",
      "          1       0.84      1.00      0.91       408\n",
      "\n",
      "avg / total       0.91      0.89      0.89       751\n",
      "\n",
      "\n",
      "--threshold @ 0.00--\n",
      "model accuracy: 0.74\n",
      "model auc = 0.72\n",
      "             precision    recall  f1-score   support\n",
      "\n",
      "          0       0.99      0.44      0.61       343\n",
      "          1       0.68      1.00      0.81       408\n",
      "\n",
      "avg / total       0.82      0.74      0.72       751\n",
      "\n",
      "\n",
      "--threshold @ 0.00--\n",
      "model accuracy: 0.74\n",
      "model auc = 0.72\n",
      "             precision    recall  f1-score   support\n",
      "\n",
      "          0       0.99      0.44      0.61       343\n",
      "          1       0.68      1.00      0.81       408\n",
      "\n",
      "avg / total       0.82      0.74      0.72       751\n",
      "\n",
      "\n",
      "--threshold @ 0.00--\n",
      "model accuracy: 0.54\n",
      "model auc = 0.50\n",
      "             precision    recall  f1-score   support\n",
      "\n",
      "          0       1.00      0.00      0.01       343\n",
      "          1       0.54      1.00      0.70       408\n",
      "\n",
      "avg / total       0.75      0.54      0.39       751\n",
      "\n"
     ]
    },
    {
     "name": "stderr",
     "output_type": "stream",
     "text": [
      "/Library/Frameworks/Python.framework/Versions/3.6/lib/python3.6/site-packages/sklearn/metrics/classification.py:1135: UndefinedMetricWarning: Precision and F-score are ill-defined and being set to 0.0 in labels with no predicted samples.\n",
      "  'precision', 'predicted', average, warn_for)\n"
     ]
    }
   ],
   "source": [
    "for x in thresholds:\n",
    "    # thresholds var was defined by call to roc_curve() above\n",
    "    over_thresh = np.where(model.predict_proba(X_test)[:,1] > x)\n",
    "    thresh_pred = np.zeros(y_test.shape)\n",
    "    thresh_pred[over_thresh]=1\n",
    "    \n",
    "    model_accuracy = accuracy_score(y_test, thresh_pred)\n",
    "    model_roc_auc = roc_auc_score(y_test, thresh_pred)\n",
    "    \n",
    "    print(\"\\n--threshold @ %2.2f--\"%x)\n",
    "    print(\"model accuracy: %2.2f\"%model_accuracy)\n",
    "    print(\"model auc = %2.2f\"%model_roc_auc)\n",
    "    print(classification_report(y_test, thresh_pred))\n",
    "    "
   ]
  },
  {
   "cell_type": "markdown",
   "metadata": {},
   "source": [
    "## give coefficients the sniff test\n",
    "* Just make sure things are moving in the direction I expect them to and the high coefficient features make sense"
   ]
  },
  {
   "cell_type": "code",
   "execution_count": 13,
   "metadata": {
    "scrolled": false
   },
   "outputs": [
    {
     "data": {
      "text/plain": [
       "{'X_accommodates': -0.1274593164776707,\n",
       " 'X_bathrooms': 0.0294008931153868,\n",
       " 'X_bedrooms': 0.047173159613368695,\n",
       " 'X_description_seqDiff': 3.4655036269907518,\n",
       " 'X_euc_diff': -1.7021728112230743,\n",
       " 'X_title_seqDiff': 5.085272785326448}"
      ]
     },
     "execution_count": 13,
     "metadata": {},
     "output_type": "execute_result"
    }
   ],
   "source": [
    "dict(zip(columns, model.coef_[0]))"
   ]
  },
  {
   "cell_type": "markdown",
   "metadata": {},
   "source": [
    "## Function to call model w/ threshold"
   ]
  },
  {
   "cell_type": "code",
   "execution_count": 14,
   "metadata": {},
   "outputs": [],
   "source": [
    "# Evaluate P(y=1|X_i) at specified threshold\n",
    "# Function evaluates on 1 (n,1) shaped feature vector where n = num features\n",
    "# Returns class 0|1\n",
    "def call_model(X_i, threshold = .46):\n",
    "    X_i = X_i.reshape(1, -1)\n",
    "    proba = model.predict_proba(X_i)[:,1]\n",
    "    predicted_class = 1 if proba > .46 else 0\n",
    "    return predicted_class\n",
    "\n",
    "# Running on (n observations x n features) shaped matrix\n",
    "threshold_predictions = [call_model(x) for x in X_test]"
   ]
  },
  {
   "cell_type": "markdown",
   "metadata": {},
   "source": [
    "## Questions\n",
    "* Where did you set your threshold and why? \n",
    "    \n",
    "    I set it at .46 per the analysis above\n",
    "    \n",
    "    \n",
    "* How might you sort out the properties that fall right in the middle? \n",
    "    \n",
    "    Middle as in probabilities near the threshold? The precision is 99% so I probably wouldn't do anything in this instance. Otherwise I'd do misclassification analysis to see if there are any feature problems, or features that would be useful to add\n",
    "    \n",
    "    \n",
    "* What fields from the original dataset might you use\n",
    "    \n",
    "    I didn't use any features from original set, but features derived from \\*_accommodates, \\*_bedrooms, \\*_bathrooms, \\*_title, \\*_description, \\*_lat, \\*_longitude\n",
    "    \n",
    "    \n",
    "* what modeling techniques could you employ\n",
    "    \n",
    "    The features I was using should all have a linear relationship to the probability of class, so a linear regression model transformed into probabilities by sigmoid function, i.e. logistic regression, for binary classification is a good way to go. I could also have done some experimentation with decision tree classification. I should have used PCA or VIF or something to remove collinear features. If I felt like going completely overkill I could have maybe done some image match classification between the two sets, but I didn't look at any of the images. \n",
    "  "
   ]
  },
  {
   "cell_type": "code",
   "execution_count": null,
   "metadata": {},
   "outputs": [],
   "source": []
  }
 ],
 "metadata": {
  "kernelspec": {
   "display_name": "Python 3",
   "language": "python",
   "name": "python3"
  },
  "language_info": {
   "codemirror_mode": {
    "name": "ipython",
    "version": 3
   },
   "file_extension": ".py",
   "mimetype": "text/x-python",
   "name": "python",
   "nbconvert_exporter": "python",
   "pygments_lexer": "ipython3",
   "version": "3.6.4"
  }
 },
 "nbformat": 4,
 "nbformat_minor": 2
}
